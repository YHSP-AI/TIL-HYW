{
 "cells": [
  {
   "cell_type": "code",
   "execution_count": 2,
   "id": "60ef03e2-7722-4e37-ac58-c1abdd3df1a2",
   "metadata": {},
   "outputs": [
    {
     "data": {
      "text/plain": [
       "'/home/jupyter/mmdetection'"
      ]
     },
     "execution_count": 2,
     "metadata": {},
     "output_type": "execute_result"
    }
   ],
   "source": [
    "pwd"
   ]
  },
  {
   "cell_type": "code",
   "execution_count": 4,
   "id": "943a0e7b-7681-4a25-9eff-b79d0b69bc56",
   "metadata": {
    "tags": []
   },
   "outputs": [
    {
     "name": "stdout",
     "output_type": "stream",
     "text": [
      "Traceback (most recent call last):\n",
      "  File \"/home/jupyter/mmdetection/demo/image_demo.py\", line 61, in <module>\n",
      "    from mmengine.logging import print_log\n",
      "ModuleNotFoundError: No module named 'mmengine'\n"
     ]
    }
   ],
   "source": [
    "!python demo/image_demo.py ../advanced/images/image_0.png \\\n",
    "        configs/mm_grounding_dino/grounding_dino_swin-l_pretrain_obj365_goldg.py \\\n",
    "        --weights grounding_dino_swin-l_pretrain_obj365_goldg-34dcdc53.pth \\\n",
    "        --texts 'grey missile'\n"
   ]
  },
  {
   "cell_type": "code",
   "execution_count": null,
   "id": "286f17e6-f4cd-4ff8-8f73-1cee43f5e892",
   "metadata": {},
   "outputs": [],
   "source": [
    "{\"image\": \"image_0.jpg\", \"annotations\": [{\"caption\": \"grey missile\", \"bbox\": [912, 164, 48, 152]}, {\"caption\": \"red, white, and blue light aircraft\", \"bbox\": [1032, 80, 24, 28]}, {\"caption\": \"green and black missile\", \"bbox\": [704, 508, 76, 64]}, {\"caption\": \"white and red helicopter\", \"bbox\": [524, 116, 112, 48]}]}"
   ]
  }
 ],
 "metadata": {
  "environment": {
   "kernel": "mmdetection",
   "name": "workbench-notebooks.m120",
   "type": "gcloud",
   "uri": "us-docker.pkg.dev/deeplearning-platform-release/gcr.io/workbench-notebooks:m120"
  },
  "kernelspec": {
   "display_name": "mmdetection",
   "language": "python",
   "name": "mmdetection"
  },
  "language_info": {
   "codemirror_mode": {
    "name": "ipython",
    "version": 3
   },
   "file_extension": ".py",
   "mimetype": "text/x-python",
   "name": "python",
   "nbconvert_exporter": "python",
   "pygments_lexer": "ipython3",
   "version": "3.8.19"
  }
 },
 "nbformat": 4,
 "nbformat_minor": 5
}
